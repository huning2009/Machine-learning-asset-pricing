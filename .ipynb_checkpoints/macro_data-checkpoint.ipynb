{
 "cells": [
  {
   "cell_type": "code",
   "execution_count": 26,
   "metadata": {},
   "outputs": [],
   "source": [
    "# import initial libraries\n",
    "import pandas as pd\n",
    "import numpy as np\n",
    "import matplotlib.pyplot as plt\n",
    "from pathlib import Path\n",
    "from pandas_datareader import data as wb\n",
    "import datetime\n",
    "import math\n",
    "from sklearn.preprocessing import MinMaxScaler\n",
    "from tensorflow.keras.models import Sequential\n",
    "from tensorflow.keras.layers import LSTM, Dense"
   ]
  },
  {
   "cell_type": "code",
   "execution_count": 49,
   "metadata": {},
   "outputs": [],
   "source": [
    "# import market returns\n",
    "apple = wb.DataReader('AAPL', data_source=\"yahoo\", start= '2010/01/01', end='2020/04/10')\n",
    "apple_1 = apple[['Volume', 'Adj Close']]\n",
    "apple_2 = (apple['High'] - apple['Low']) / apple['High']\n",
    "apple_data = pd.concat([apple_2, apple_1], axis = 'columns')\n",
    "columns = ['bid_ask_spread', 'Volume', 'Adj Close']\n",
    "apple_data.columns=columns"
   ]
  },
  {
   "cell_type": "code",
   "execution_count": 50,
   "metadata": {},
   "outputs": [],
   "source": [
    "# import macro data from fed\n",
    "start = datetime.datetime(2010, 1, 1)\n",
    "end = datetime.datetime(2020, 4, 1)\n",
    "gdp = wb.DataReader(\"GDP\", \"fred\", start, end).resample('M').mean()\n",
    "industrial_production = wb.DataReader(\"INDPRO\", \"fred\", start, end).resample('M').mean()\n",
    "unemployment = wb.DataReader(\"UNRATE\", \"fred\", start, end).resample('M').mean()\n",
    "balance_sheet = wb.DataReader(\"WALCL\", \"fred\", start, end).resample('M').mean()\n",
    "consumption = wb.DataReader(\"PCE\", \"fred\", start, end).resample('M').mean()\n",
    "m1 = wb.DataReader(\"M1\", \"fred\", start, end).resample('M').mean()\n",
    "m2 = wb.DataReader(\"M2\", \"fred\", start, end).resample('M').mean() \n",
    "\n",
    "# concat macro data export to excel\n",
    "macro = pd.concat([gdp, industrial_production, unemployment, balance_sheet, consumption, m1, m2], axis = 'columns')"
   ]
  },
  {
   "cell_type": "code",
   "execution_count": 51,
   "metadata": {},
   "outputs": [],
   "source": [
    "# import above macro data \n",
    "path = Path('macro_data.CSV')\n",
    "macro = pd.read_csv(path, index_col ='Date', infer_datetime_format=True)\n",
    "macro.index = pd.DatetimeIndex(macro.index)"
   ]
  },
  {
   "cell_type": "code",
   "execution_count": 140,
   "metadata": {},
   "outputs": [],
   "source": [
    "# import ffm 5 factor\n",
    "path = Path('F-F_Research_Data_5_Factors_2x3_daily.CSV')\n",
    "ffm_5 = pd.read_csv(path, index_col ='Date', infer_datetime_format=True)\n",
    "ffm_5.index = pd.DatetimeIndex(ffm_5.index)\n",
    "#ffm_5 = ffm_5.resample('M').mean()"
   ]
  },
  {
   "cell_type": "code",
   "execution_count": 141,
   "metadata": {},
   "outputs": [],
   "source": [
    "# cleaning data \n",
    "data = pd.concat([macro,ffm_5,apple_data], axis = 'columns')\n",
    "#data.dropna(inplace = True)"
   ]
  },
  {
   "cell_type": "code",
   "execution_count": 142,
   "metadata": {},
   "outputs": [],
   "source": [
    "data.to_clipboard()"
   ]
  },
  {
   "cell_type": "code",
   "execution_count": 54,
   "metadata": {},
   "outputs": [
    {
     "data": {
      "text/plain": [
       "68"
      ]
     },
     "execution_count": 54,
     "metadata": {},
     "output_type": "execute_result"
    }
   ],
   "source": [
    "# create a new dataframe with only close column\n",
    "data = data.filter(['Adj Close'])\n",
    "#convet the dataframe to a numpy array\n",
    "dataset = data.values\n",
    "#Get the number of rows to train the model on\n",
    "training_data_len = math.ceil(len(dataset) * .8)\n",
    "training_data_len"
   ]
  },
  {
   "cell_type": "code",
   "execution_count": 55,
   "metadata": {},
   "outputs": [],
   "source": [
    "#Scale the data\n",
    "scaler = MinMaxScaler(feature_range=(0,1))\n",
    "scaled_data = scaler.fit_transform(dataset)"
   ]
  },
  {
   "cell_type": "code",
   "execution_count": 111,
   "metadata": {},
   "outputs": [],
   "source": [
    "#Creat the training data set\n",
    "#creat the scaled training data set\n",
    "train_data = scaled_data[0:training_data_len,:]\n",
    "#split the data into X_train and y_train data set\n",
    "X_train= []\n",
    "y_train = []\n",
    "\n",
    "for i in range (6, len(train_data)):\n",
    "  X_train.append(train_data[i-6:i,0])   #will contain 60 values. index 0 to 59\n",
    "  y_train.append(train_data[i,0]) #will conrain 61st value.  index 60\n",
    "  "
   ]
  },
  {
   "cell_type": "code",
   "execution_count": 112,
   "metadata": {},
   "outputs": [],
   "source": [
    "#convert the X_train and y_train to numpy arrays\n",
    "X_train, y_train = np.array(X_train), np.array(y_train)"
   ]
  },
  {
   "cell_type": "code",
   "execution_count": 113,
   "metadata": {},
   "outputs": [
    {
     "data": {
      "text/plain": [
       "(62, 6, 1)"
      ]
     },
     "execution_count": 113,
     "metadata": {},
     "output_type": "execute_result"
    }
   ],
   "source": [
    "# Reshape the data\n",
    "X_train = np.reshape(X_train, (X_train.shape[0], X_train.shape[1],1))\n",
    "X_train.shape"
   ]
  },
  {
   "cell_type": "code",
   "execution_count": 114,
   "metadata": {},
   "outputs": [],
   "source": [
    "# Bulid the LSTM model\n",
    "model = Sequential()\n",
    "model.add(LSTM(50, return_sequences= True, input_shape=(X_train.shape[1],1)))\n",
    "model.add(LSTM(50, return_sequences= False))\n",
    "model.add(Dense(25))\n",
    "model.add(Dense(1))"
   ]
  },
  {
   "cell_type": "code",
   "execution_count": 115,
   "metadata": {},
   "outputs": [],
   "source": [
    "#Complie model\n",
    "model.compile(optimizer='adam', loss='mean_squared_error')  #loss show how well the model did in training"
   ]
  },
  {
   "cell_type": "code",
   "execution_count": 131,
   "metadata": {},
   "outputs": [
    {
     "name": "stdout",
     "output_type": "stream",
     "text": [
      "Train on 62 samples\n",
      "Epoch 1/100\n",
      "62/62 [==============================] - 2s 25ms/sample - loss: 6.0352e-04\n",
      "Epoch 2/100\n",
      "62/62 [==============================] - 0s 991us/sample - loss: 5.4681e-04\n",
      "Epoch 3/100\n",
      "62/62 [==============================] - 0s 1ms/sample - loss: 5.5630e-04\n",
      "Epoch 4/100\n",
      "62/62 [==============================] - 0s 968us/sample - loss: 5.2920e-04\n",
      "Epoch 5/100\n",
      "62/62 [==============================] - 0s 1ms/sample - loss: 5.2828e-04\n",
      "Epoch 6/100\n",
      "62/62 [==============================] - 0s 989us/sample - loss: 5.2833e-04\n",
      "Epoch 7/100\n",
      "62/62 [==============================] - 0s 856us/sample - loss: 5.3559e-04\n",
      "Epoch 8/100\n",
      "62/62 [==============================] - 0s 808us/sample - loss: 5.3957e-04\n",
      "Epoch 9/100\n",
      "62/62 [==============================] - 0s 824us/sample - loss: 5.3329e-04\n",
      "Epoch 10/100\n",
      "62/62 [==============================] - 0s 780us/sample - loss: 5.3499e-04\n",
      "Epoch 11/100\n",
      "62/62 [==============================] - 0s 839us/sample - loss: 5.3550e-04\n",
      "Epoch 12/100\n",
      "62/62 [==============================] - 0s 846us/sample - loss: 5.3727e-04\n",
      "Epoch 13/100\n",
      "62/62 [==============================] - 0s 772us/sample - loss: 5.3170e-04\n",
      "Epoch 14/100\n",
      "62/62 [==============================] - 0s 812us/sample - loss: 5.2939e-04\n",
      "Epoch 15/100\n",
      "62/62 [==============================] - 0s 838us/sample - loss: 5.3791e-04\n",
      "Epoch 16/100\n",
      "62/62 [==============================] - 0s 753us/sample - loss: 5.5302e-04\n",
      "Epoch 17/100\n",
      "62/62 [==============================] - 0s 803us/sample - loss: 5.2222e-04\n",
      "Epoch 18/100\n",
      "62/62 [==============================] - 0s 811us/sample - loss: 5.3462e-04\n",
      "Epoch 19/100\n",
      "62/62 [==============================] - 0s 1ms/sample - loss: 5.2454e-04\n",
      "Epoch 20/100\n",
      "62/62 [==============================] - 0s 766us/sample - loss: 5.5672e-04\n",
      "Epoch 21/100\n",
      "62/62 [==============================] - 0s 806us/sample - loss: 5.4797e-04\n",
      "Epoch 22/100\n",
      "62/62 [==============================] - 0s 788us/sample - loss: 6.1311e-04\n",
      "Epoch 23/100\n",
      "62/62 [==============================] - 0s 790us/sample - loss: 5.3177e-04\n",
      "Epoch 24/100\n",
      "62/62 [==============================] - 0s 793us/sample - loss: 5.4478e-04\n",
      "Epoch 25/100\n",
      "62/62 [==============================] - 0s 890us/sample - loss: 5.3716e-04\n",
      "Epoch 26/100\n",
      "62/62 [==============================] - 0s 807us/sample - loss: 5.4629e-04\n",
      "Epoch 27/100\n",
      "62/62 [==============================] - 0s 929us/sample - loss: 5.2731e-04\n",
      "Epoch 28/100\n",
      "62/62 [==============================] - 0s 862us/sample - loss: 5.1843e-04\n",
      "Epoch 29/100\n",
      "62/62 [==============================] - 0s 849us/sample - loss: 5.5440e-04\n",
      "Epoch 30/100\n",
      "62/62 [==============================] - 0s 774us/sample - loss: 5.4893e-04\n",
      "Epoch 31/100\n",
      "62/62 [==============================] - 0s 755us/sample - loss: 5.2112e-04\n",
      "Epoch 32/100\n",
      "62/62 [==============================] - 0s 786us/sample - loss: 5.3758e-04\n",
      "Epoch 33/100\n",
      "62/62 [==============================] - 0s 728us/sample - loss: 5.4064e-04\n",
      "Epoch 34/100\n",
      "62/62 [==============================] - 0s 795us/sample - loss: 5.1781e-04\n",
      "Epoch 35/100\n",
      "62/62 [==============================] - 0s 876us/sample - loss: 5.7048e-04\n",
      "Epoch 36/100\n",
      "62/62 [==============================] - 0s 991us/sample - loss: 5.3685e-04\n",
      "Epoch 37/100\n",
      "62/62 [==============================] - 0s 938us/sample - loss: 5.5581e-04\n",
      "Epoch 38/100\n",
      "62/62 [==============================] - 0s 986us/sample - loss: 5.4106e-04\n",
      "Epoch 39/100\n",
      "62/62 [==============================] - 0s 901us/sample - loss: 5.4621e-04\n",
      "Epoch 40/100\n",
      "62/62 [==============================] - 0s 1ms/sample - loss: 5.3348e-04\n",
      "Epoch 41/100\n",
      "62/62 [==============================] - 0s 819us/sample - loss: 5.3050e-04\n",
      "Epoch 42/100\n",
      "62/62 [==============================] - 0s 819us/sample - loss: 5.2535e-04\n",
      "Epoch 43/100\n",
      "62/62 [==============================] - 0s 773us/sample - loss: 5.2050e-04\n",
      "Epoch 44/100\n",
      "62/62 [==============================] - 0s 774us/sample - loss: 5.3241e-04\n",
      "Epoch 45/100\n",
      "62/62 [==============================] - 0s 769us/sample - loss: 5.5039e-04\n",
      "Epoch 46/100\n",
      "62/62 [==============================] - 0s 752us/sample - loss: 5.3437e-04\n",
      "Epoch 47/100\n",
      "62/62 [==============================] - 0s 842us/sample - loss: 5.4059e-04\n",
      "Epoch 48/100\n",
      "62/62 [==============================] - 0s 868us/sample - loss: 5.3573e-04\n",
      "Epoch 49/100\n",
      "62/62 [==============================] - 0s 858us/sample - loss: 5.3706e-04\n",
      "Epoch 50/100\n",
      "62/62 [==============================] - 0s 1ms/sample - loss: 5.6004e-04\n",
      "Epoch 51/100\n",
      "62/62 [==============================] - 0s 895us/sample - loss: 5.2243e-04\n",
      "Epoch 52/100\n",
      "62/62 [==============================] - 0s 772us/sample - loss: 5.2318e-04\n",
      "Epoch 53/100\n",
      "62/62 [==============================] - 0s 936us/sample - loss: 5.3109e-04\n",
      "Epoch 54/100\n",
      "62/62 [==============================] - 0s 905us/sample - loss: 5.2777e-04\n",
      "Epoch 55/100\n",
      "62/62 [==============================] - 0s 832us/sample - loss: 5.2996e-04\n",
      "Epoch 56/100\n",
      "62/62 [==============================] - 0s 860us/sample - loss: 5.2794e-04\n",
      "Epoch 57/100\n",
      "62/62 [==============================] - 0s 1ms/sample - loss: 5.4203e-04\n",
      "Epoch 58/100\n",
      "62/62 [==============================] - 0s 764us/sample - loss: 5.4246e-04\n",
      "Epoch 59/100\n",
      "62/62 [==============================] - 0s 873us/sample - loss: 5.3832e-04\n",
      "Epoch 60/100\n",
      "62/62 [==============================] - 0s 813us/sample - loss: 5.9305e-04\n",
      "Epoch 61/100\n",
      "62/62 [==============================] - 0s 759us/sample - loss: 5.2461e-04\n",
      "Epoch 62/100\n",
      "62/62 [==============================] - 0s 883us/sample - loss: 5.3339e-04\n",
      "Epoch 63/100\n",
      "62/62 [==============================] - 0s 817us/sample - loss: 5.2741e-04\n",
      "Epoch 64/100\n",
      "62/62 [==============================] - 0s 864us/sample - loss: 5.1872e-04\n",
      "Epoch 65/100\n",
      "62/62 [==============================] - 0s 767us/sample - loss: 5.3621e-04\n",
      "Epoch 66/100\n",
      "62/62 [==============================] - 0s 888us/sample - loss: 5.3553e-04\n",
      "Epoch 67/100\n",
      "62/62 [==============================] - 0s 883us/sample - loss: 5.5127e-04\n",
      "Epoch 68/100\n",
      "62/62 [==============================] - 0s 786us/sample - loss: 5.4426e-04\n",
      "Epoch 69/100\n",
      "62/62 [==============================] - 0s 798us/sample - loss: 5.2608e-04\n",
      "Epoch 70/100\n",
      "62/62 [==============================] - 0s 751us/sample - loss: 5.3062e-04\n",
      "Epoch 71/100\n",
      "62/62 [==============================] - 0s 733us/sample - loss: 5.3197e-04\n",
      "Epoch 72/100\n",
      "62/62 [==============================] - 0s 761us/sample - loss: 5.3216e-04\n",
      "Epoch 73/100\n",
      "62/62 [==============================] - 0s 814us/sample - loss: 5.2780e-04\n",
      "Epoch 74/100\n",
      "62/62 [==============================] - 0s 869us/sample - loss: 5.1127e-04\n",
      "Epoch 75/100\n",
      "62/62 [==============================] - 0s 953us/sample - loss: 5.8652e-04\n",
      "Epoch 76/100\n",
      "62/62 [==============================] - 0s 1ms/sample - loss: 4.9763e-04\n",
      "Epoch 77/100\n",
      "62/62 [==============================] - 0s 1ms/sample - loss: 6.0556e-04\n",
      "Epoch 78/100\n",
      "62/62 [==============================] - 0s 877us/sample - loss: 5.3336e-04\n",
      "Epoch 79/100\n",
      "62/62 [==============================] - 0s 830us/sample - loss: 5.2684e-04\n",
      "Epoch 80/100\n",
      "62/62 [==============================] - 0s 946us/sample - loss: 6.6430e-04\n",
      "Epoch 81/100\n",
      "62/62 [==============================] - 0s 924us/sample - loss: 5.5668e-04\n",
      "Epoch 82/100\n",
      "62/62 [==============================] - 0s 968us/sample - loss: 5.3874e-04\n",
      "Epoch 83/100\n",
      "62/62 [==============================] - 0s 909us/sample - loss: 5.1998e-04\n",
      "Epoch 84/100\n",
      "62/62 [==============================] - 0s 916us/sample - loss: 5.4111e-04\n",
      "Epoch 85/100\n",
      "62/62 [==============================] - 0s 1ms/sample - loss: 5.1603e-04\n",
      "Epoch 86/100\n",
      "62/62 [==============================] - 0s 875us/sample - loss: 5.3702e-04\n",
      "Epoch 87/100\n",
      "62/62 [==============================] - 0s 867us/sample - loss: 5.2960e-04\n",
      "Epoch 88/100\n",
      "62/62 [==============================] - 0s 1ms/sample - loss: 5.2417e-04\n",
      "Epoch 89/100\n",
      "62/62 [==============================] - 0s 1ms/sample - loss: 5.6900e-04\n",
      "Epoch 90/100\n",
      "62/62 [==============================] - 0s 1ms/sample - loss: 5.2774e-04\n",
      "Epoch 91/100\n",
      "62/62 [==============================] - 0s 1ms/sample - loss: 5.2598e-04\n",
      "Epoch 92/100\n",
      "62/62 [==============================] - 0s 2ms/sample - loss: 5.2486e-04\n",
      "Epoch 93/100\n",
      "62/62 [==============================] - 0s 1ms/sample - loss: 5.1862e-04\n",
      "Epoch 94/100\n",
      "62/62 [==============================] - 0s 946us/sample - loss: 5.3629e-04\n",
      "Epoch 95/100\n",
      "62/62 [==============================] - 0s 1ms/sample - loss: 5.2448e-04\n",
      "Epoch 96/100\n",
      "62/62 [==============================] - 0s 1ms/sample - loss: 5.1510e-04\n",
      "Epoch 97/100\n",
      "62/62 [==============================] - 0s 1ms/sample - loss: 5.3755e-04\n",
      "Epoch 98/100\n",
      "62/62 [==============================] - 0s 999us/sample - loss: 5.2515e-04\n",
      "Epoch 99/100\n",
      "62/62 [==============================] - 0s 1ms/sample - loss: 5.1798e-04\n",
      "Epoch 100/100\n",
      "62/62 [==============================] - 0s 995us/sample - loss: 5.2794e-04\n"
     ]
    },
    {
     "data": {
      "text/plain": [
       "<tensorflow.python.keras.callbacks.History at 0x1a3a1a1e90>"
      ]
     },
     "execution_count": 131,
     "metadata": {},
     "output_type": "execute_result"
    }
   ],
   "source": [
    "# Train the model\n",
    "model.fit(X_train, y_train, batch_size= 10, epochs=100, verbose=1 )"
   ]
  },
  {
   "cell_type": "code",
   "execution_count": 132,
   "metadata": {},
   "outputs": [],
   "source": [
    "#create the teating data set\n",
    "#create a new array containing scaled values from index  \n",
    "test_data = scaled_data[training_data_len - 6:,:]\n",
    "#Create the data sets X_test and y_test\n",
    "X_test = []\n",
    "y_test= dataset[training_data_len:,:]\n",
    "for i in range(6, len(test_data)):\n",
    "    X_test.append(test_data[i-6:i,0])\n"
   ]
  },
  {
   "cell_type": "code",
   "execution_count": 133,
   "metadata": {},
   "outputs": [],
   "source": [
    "# Convert the data to a numpy array\n",
    "X_test = np.array(X_test)"
   ]
  },
  {
   "cell_type": "code",
   "execution_count": 134,
   "metadata": {},
   "outputs": [],
   "source": [
    "# Reshape the data\n",
    "X_test= np.reshape(X_test,(X_test.shape[0],X_test.shape[1],1))"
   ]
  },
  {
   "cell_type": "code",
   "execution_count": 135,
   "metadata": {},
   "outputs": [],
   "source": [
    "#Get the models predicted price values\n",
    "predictions = model.predict(X_test)\n",
    "predictions = scaler.inverse_transform(predictions)\n"
   ]
  },
  {
   "cell_type": "code",
   "execution_count": 136,
   "metadata": {},
   "outputs": [
    {
     "data": {
      "text/plain": [
       "31.638592627010194"
      ]
     },
     "execution_count": 136,
     "metadata": {},
     "output_type": "execute_result"
    }
   ],
   "source": [
    "#Get the root mean squared error (RMSE)\n",
    "#rmse = np.sqrt(np.mean(predictions - y_test)**2)\n",
    "rmse = np.sqrt(np.mean(((predictions - y_test)**2)))\n",
    "rmse"
   ]
  },
  {
   "cell_type": "code",
   "execution_count": 137,
   "metadata": {},
   "outputs": [
    {
     "name": "stderr",
     "output_type": "stream",
     "text": [
      "/opt/anaconda3/lib/python3.7/site-packages/ipykernel_launcher.py:4: SettingWithCopyWarning: \n",
      "A value is trying to be set on a copy of a slice from a DataFrame.\n",
      "Try using .loc[row_indexer,col_indexer] = value instead\n",
      "\n",
      "See the caveats in the documentation: https://pandas.pydata.org/pandas-docs/stable/user_guide/indexing.html#returning-a-view-versus-a-copy\n",
      "  after removing the cwd from sys.path.\n"
     ]
    },
    {
     "data": {
      "image/png": "[encoded data removed]",
      "text/plain": [
       "<Figure size 1152x576 with 1 Axes>"
      ]
     },
     "metadata": {
      "needs_background": "light"
     },
     "output_type": "display_data"
    }
   ],
   "source": [
    "# plot the data\n",
    "train = data[:training_data_len]\n",
    "valid = data[training_data_len:]\n",
    "valid['Predictions'] = predictions\n",
    "#Visulize the data\n",
    "plt.figure(figsize=(16,8))\n",
    "plt.title(\"Model\")\n",
    "plt.xlabel(\"Date\")\n",
    "plt.ylabel('Close Price USD $')\n",
    "plt.plot(train['Adj Close'])\n",
    "plt.plot(valid[['Adj Close','Predictions']])\n",
    "plt.legend([\"Train\", 'Val','Predictions'])\n",
    "plt.show()"
   ]
  },
  {
   "cell_type": "code",
   "execution_count": 130,
   "metadata": {},
   "outputs": [
    {
     "data": {
      "text/html": [
       "<div>\n",
       "<style scoped>\n",
       "    .dataframe tbody tr th:only-of-type {\n",
       "        vertical-align: middle;\n",
       "    }\n",
       "\n",
       "    .dataframe tbody tr th {\n",
       "        vertical-align: top;\n",
       "    }\n",
       "\n",
       "    .dataframe thead th {\n",
       "        text-align: right;\n",
       "    }\n",
       "</style>\n",
       "<table border=\"1\" class=\"dataframe\">\n",
       "  <thead>\n",
       "    <tr style=\"text-align: right;\">\n",
       "      <th></th>\n",
       "      <th>Adj Close</th>\n",
       "      <th>Predictions</th>\n",
       "    </tr>\n",
       "    <tr>\n",
       "      <th>Date</th>\n",
       "      <th></th>\n",
       "      <th></th>\n",
       "    </tr>\n",
       "  </thead>\n",
       "  <tbody>\n",
       "    <tr>\n",
       "      <th>2018-02-28</th>\n",
       "      <td>173.181656</td>\n",
       "      <td>162.643005</td>\n",
       "    </tr>\n",
       "    <tr>\n",
       "      <th>2018-04-30</th>\n",
       "      <td>160.678177</td>\n",
       "      <td>179.507477</td>\n",
       "    </tr>\n",
       "    <tr>\n",
       "      <th>2018-05-31</th>\n",
       "      <td>182.389633</td>\n",
       "      <td>156.223328</td>\n",
       "    </tr>\n",
       "    <tr>\n",
       "      <th>2018-07-31</th>\n",
       "      <td>185.727646</td>\n",
       "      <td>193.701736</td>\n",
       "    </tr>\n",
       "    <tr>\n",
       "      <th>2018-08-31</th>\n",
       "      <td>222.951584</td>\n",
       "      <td>179.064194</td>\n",
       "    </tr>\n",
       "    <tr>\n",
       "      <th>2018-10-31</th>\n",
       "      <td>214.361847</td>\n",
       "      <td>237.054459</td>\n",
       "    </tr>\n",
       "    <tr>\n",
       "      <th>2018-11-30</th>\n",
       "      <td>175.519989</td>\n",
       "      <td>197.557083</td>\n",
       "    </tr>\n",
       "    <tr>\n",
       "      <th>2018-12-31</th>\n",
       "      <td>155.037109</td>\n",
       "      <td>176.519394</td>\n",
       "    </tr>\n",
       "    <tr>\n",
       "      <th>2019-01-31</th>\n",
       "      <td>163.587997</td>\n",
       "      <td>155.349991</td>\n",
       "    </tr>\n",
       "    <tr>\n",
       "      <th>2019-02-28</th>\n",
       "      <td>170.912918</td>\n",
       "      <td>167.617416</td>\n",
       "    </tr>\n",
       "    <tr>\n",
       "      <th>2019-04-30</th>\n",
       "      <td>198.077362</td>\n",
       "      <td>168.843552</td>\n",
       "    </tr>\n",
       "    <tr>\n",
       "      <th>2019-05-31</th>\n",
       "      <td>173.473602</td>\n",
       "      <td>202.766068</td>\n",
       "    </tr>\n",
       "    <tr>\n",
       "      <th>2019-07-31</th>\n",
       "      <td>211.097366</td>\n",
       "      <td>160.433090</td>\n",
       "    </tr>\n",
       "    <tr>\n",
       "      <th>2019-09-30</th>\n",
       "      <td>222.770889</td>\n",
       "      <td>232.245667</td>\n",
       "    </tr>\n",
       "    <tr>\n",
       "      <th>2019-10-31</th>\n",
       "      <td>247.428162</td>\n",
       "      <td>207.992706</td>\n",
       "    </tr>\n",
       "    <tr>\n",
       "      <th>2019-12-31</th>\n",
       "      <td>292.954712</td>\n",
       "      <td>260.321777</td>\n",
       "    </tr>\n",
       "  </tbody>\n",
       "</table>\n",
       "</div>"
      ],
      "text/plain": [
       "             Adj Close  Predictions\n",
       "Date                               \n",
       "2018-02-28  173.181656   162.643005\n",
       "2018-04-30  160.678177   179.507477\n",
       "2018-05-31  182.389633   156.223328\n",
       "2018-07-31  185.727646   193.701736\n",
       "2018-08-31  222.951584   179.064194\n",
       "2018-10-31  214.361847   237.054459\n",
       "2018-11-30  175.519989   197.557083\n",
       "2018-12-31  155.037109   176.519394\n",
       "2019-01-31  163.587997   155.349991\n",
       "2019-02-28  170.912918   167.617416\n",
       "2019-04-30  198.077362   168.843552\n",
       "2019-05-31  173.473602   202.766068\n",
       "2019-07-31  211.097366   160.433090\n",
       "2019-09-30  222.770889   232.245667\n",
       "2019-10-31  247.428162   207.992706\n",
       "2019-12-31  292.954712   260.321777"
      ]
     },
     "execution_count": 130,
     "metadata": {},
     "output_type": "execute_result"
    }
   ],
   "source": [
    "# show the valid and predicted prices\n",
    "valid"
   ]
  },
  {
   "cell_type": "code",
   "execution_count": 125,
   "metadata": {},
   "outputs": [
    {
     "ename": "ValueError",
     "evalue": "Error when checking input: expected lstm_6_input to have shape (6, 1) but got array with shape (30, 1)",
     "output_type": "error",
     "traceback": [
      "\u001b[0;31m---------------------------------------------------------------------------\u001b[0m",
      "\u001b[0;31mValueError\u001b[0m                                Traceback (most recent call last)",
      "\u001b[0;32m<ipython-input-125-ad7e8a10e515>\u001b[0m in \u001b[0;36m<module>\u001b[0;34m\u001b[0m\n\u001b[1;32m     16\u001b[0m \u001b[0mx_test\u001b[0m \u001b[0;34m=\u001b[0m \u001b[0mnp\u001b[0m\u001b[0;34m.\u001b[0m\u001b[0mreshape\u001b[0m\u001b[0;34m(\u001b[0m\u001b[0mx_test\u001b[0m\u001b[0;34m,\u001b[0m\u001b[0;34m(\u001b[0m\u001b[0mx_test\u001b[0m\u001b[0;34m.\u001b[0m\u001b[0mshape\u001b[0m\u001b[0;34m[\u001b[0m\u001b[0;36m0\u001b[0m\u001b[0;34m]\u001b[0m\u001b[0;34m,\u001b[0m \u001b[0mx_test\u001b[0m\u001b[0;34m.\u001b[0m\u001b[0mshape\u001b[0m\u001b[0;34m[\u001b[0m\u001b[0;36m1\u001b[0m\u001b[0;34m]\u001b[0m\u001b[0;34m,\u001b[0m\u001b[0;36m1\u001b[0m\u001b[0;34m)\u001b[0m\u001b[0;34m)\u001b[0m\u001b[0;34m\u001b[0m\u001b[0;34m\u001b[0m\u001b[0m\n\u001b[1;32m     17\u001b[0m \u001b[0;31m# Get the predicted scaled price\u001b[0m\u001b[0;34m\u001b[0m\u001b[0;34m\u001b[0m\u001b[0;34m\u001b[0m\u001b[0m\n\u001b[0;32m---> 18\u001b[0;31m \u001b[0mpred_price\u001b[0m \u001b[0;34m=\u001b[0m \u001b[0mmodel\u001b[0m\u001b[0;34m.\u001b[0m\u001b[0mpredict\u001b[0m\u001b[0;34m(\u001b[0m\u001b[0mx_test\u001b[0m\u001b[0;34m)\u001b[0m\u001b[0;34m\u001b[0m\u001b[0;34m\u001b[0m\u001b[0m\n\u001b[0m\u001b[1;32m     19\u001b[0m \u001b[0;31m#undo the scaling\u001b[0m\u001b[0;34m\u001b[0m\u001b[0;34m\u001b[0m\u001b[0;34m\u001b[0m\u001b[0m\n\u001b[1;32m     20\u001b[0m \u001b[0mpred_price\u001b[0m\u001b[0;34m=\u001b[0m \u001b[0mscaler\u001b[0m\u001b[0;34m.\u001b[0m\u001b[0minverse_transform\u001b[0m\u001b[0;34m(\u001b[0m\u001b[0mpred_price\u001b[0m\u001b[0;34m)\u001b[0m\u001b[0;34m\u001b[0m\u001b[0;34m\u001b[0m\u001b[0m\n",
      "\u001b[0;32m/opt/anaconda3/lib/python3.7/site-packages/tensorflow_core/python/keras/engine/training.py\u001b[0m in \u001b[0;36mpredict\u001b[0;34m(self, x, batch_size, verbose, steps, callbacks, max_queue_size, workers, use_multiprocessing)\u001b[0m\n\u001b[1;32m   1011\u001b[0m         \u001b[0mmax_queue_size\u001b[0m\u001b[0;34m=\u001b[0m\u001b[0mmax_queue_size\u001b[0m\u001b[0;34m,\u001b[0m\u001b[0;34m\u001b[0m\u001b[0;34m\u001b[0m\u001b[0m\n\u001b[1;32m   1012\u001b[0m         \u001b[0mworkers\u001b[0m\u001b[0;34m=\u001b[0m\u001b[0mworkers\u001b[0m\u001b[0;34m,\u001b[0m\u001b[0;34m\u001b[0m\u001b[0;34m\u001b[0m\u001b[0m\n\u001b[0;32m-> 1013\u001b[0;31m         use_multiprocessing=use_multiprocessing)\n\u001b[0m\u001b[1;32m   1014\u001b[0m \u001b[0;34m\u001b[0m\u001b[0m\n\u001b[1;32m   1015\u001b[0m   \u001b[0;32mdef\u001b[0m \u001b[0mreset_metrics\u001b[0m\u001b[0;34m(\u001b[0m\u001b[0mself\u001b[0m\u001b[0;34m)\u001b[0m\u001b[0;34m:\u001b[0m\u001b[0;34m\u001b[0m\u001b[0;34m\u001b[0m\u001b[0m\n",
      "\u001b[0;32m/opt/anaconda3/lib/python3.7/site-packages/tensorflow_core/python/keras/engine/training_v2.py\u001b[0m in \u001b[0;36mpredict\u001b[0;34m(self, model, x, batch_size, verbose, steps, callbacks, max_queue_size, workers, use_multiprocessing, **kwargs)\u001b[0m\n\u001b[1;32m    496\u001b[0m         \u001b[0mmodel\u001b[0m\u001b[0;34m,\u001b[0m \u001b[0mModeKeys\u001b[0m\u001b[0;34m.\u001b[0m\u001b[0mPREDICT\u001b[0m\u001b[0;34m,\u001b[0m \u001b[0mx\u001b[0m\u001b[0;34m=\u001b[0m\u001b[0mx\u001b[0m\u001b[0;34m,\u001b[0m \u001b[0mbatch_size\u001b[0m\u001b[0;34m=\u001b[0m\u001b[0mbatch_size\u001b[0m\u001b[0;34m,\u001b[0m \u001b[0mverbose\u001b[0m\u001b[0;34m=\u001b[0m\u001b[0mverbose\u001b[0m\u001b[0;34m,\u001b[0m\u001b[0;34m\u001b[0m\u001b[0;34m\u001b[0m\u001b[0m\n\u001b[1;32m    497\u001b[0m         \u001b[0msteps\u001b[0m\u001b[0;34m=\u001b[0m\u001b[0msteps\u001b[0m\u001b[0;34m,\u001b[0m \u001b[0mcallbacks\u001b[0m\u001b[0;34m=\u001b[0m\u001b[0mcallbacks\u001b[0m\u001b[0;34m,\u001b[0m \u001b[0mmax_queue_size\u001b[0m\u001b[0;34m=\u001b[0m\u001b[0mmax_queue_size\u001b[0m\u001b[0;34m,\u001b[0m\u001b[0;34m\u001b[0m\u001b[0;34m\u001b[0m\u001b[0m\n\u001b[0;32m--> 498\u001b[0;31m         workers=workers, use_multiprocessing=use_multiprocessing, **kwargs)\n\u001b[0m\u001b[1;32m    499\u001b[0m \u001b[0;34m\u001b[0m\u001b[0m\n\u001b[1;32m    500\u001b[0m \u001b[0;34m\u001b[0m\u001b[0m\n",
      "\u001b[0;32m/opt/anaconda3/lib/python3.7/site-packages/tensorflow_core/python/keras/engine/training_v2.py\u001b[0m in \u001b[0;36m_model_iteration\u001b[0;34m(self, model, mode, x, y, batch_size, verbose, sample_weight, steps, callbacks, max_queue_size, workers, use_multiprocessing, **kwargs)\u001b[0m\n\u001b[1;32m    424\u001b[0m           \u001b[0mmax_queue_size\u001b[0m\u001b[0;34m=\u001b[0m\u001b[0mmax_queue_size\u001b[0m\u001b[0;34m,\u001b[0m\u001b[0;34m\u001b[0m\u001b[0;34m\u001b[0m\u001b[0m\n\u001b[1;32m    425\u001b[0m           \u001b[0mworkers\u001b[0m\u001b[0;34m=\u001b[0m\u001b[0mworkers\u001b[0m\u001b[0;34m,\u001b[0m\u001b[0;34m\u001b[0m\u001b[0;34m\u001b[0m\u001b[0m\n\u001b[0;32m--> 426\u001b[0;31m           use_multiprocessing=use_multiprocessing)\n\u001b[0m\u001b[1;32m    427\u001b[0m       \u001b[0mtotal_samples\u001b[0m \u001b[0;34m=\u001b[0m \u001b[0m_get_total_number_of_samples\u001b[0m\u001b[0;34m(\u001b[0m\u001b[0madapter\u001b[0m\u001b[0;34m)\u001b[0m\u001b[0;34m\u001b[0m\u001b[0;34m\u001b[0m\u001b[0m\n\u001b[1;32m    428\u001b[0m       \u001b[0muse_sample\u001b[0m \u001b[0;34m=\u001b[0m \u001b[0mtotal_samples\u001b[0m \u001b[0;32mis\u001b[0m \u001b[0;32mnot\u001b[0m \u001b[0;32mNone\u001b[0m\u001b[0;34m\u001b[0m\u001b[0;34m\u001b[0m\u001b[0m\n",
      "\u001b[0;32m/opt/anaconda3/lib/python3.7/site-packages/tensorflow_core/python/keras/engine/training_v2.py\u001b[0m in \u001b[0;36m_process_inputs\u001b[0;34m(model, mode, x, y, batch_size, epochs, sample_weights, class_weights, shuffle, steps, distribution_strategy, max_queue_size, workers, use_multiprocessing)\u001b[0m\n\u001b[1;32m    644\u001b[0m     \u001b[0mstandardize_function\u001b[0m \u001b[0;34m=\u001b[0m \u001b[0;32mNone\u001b[0m\u001b[0;34m\u001b[0m\u001b[0;34m\u001b[0m\u001b[0m\n\u001b[1;32m    645\u001b[0m     x, y, sample_weights = standardize(\n\u001b[0;32m--> 646\u001b[0;31m         x, y, sample_weight=sample_weights)\n\u001b[0m\u001b[1;32m    647\u001b[0m   \u001b[0;32melif\u001b[0m \u001b[0madapter_cls\u001b[0m \u001b[0;32mis\u001b[0m \u001b[0mdata_adapter\u001b[0m\u001b[0;34m.\u001b[0m\u001b[0mListsOfScalarsDataAdapter\u001b[0m\u001b[0;34m:\u001b[0m\u001b[0;34m\u001b[0m\u001b[0;34m\u001b[0m\u001b[0m\n\u001b[1;32m    648\u001b[0m     \u001b[0mstandardize_function\u001b[0m \u001b[0;34m=\u001b[0m \u001b[0mstandardize\u001b[0m\u001b[0;34m\u001b[0m\u001b[0;34m\u001b[0m\u001b[0m\n",
      "\u001b[0;32m/opt/anaconda3/lib/python3.7/site-packages/tensorflow_core/python/keras/engine/training.py\u001b[0m in \u001b[0;36m_standardize_user_data\u001b[0;34m(self, x, y, sample_weight, class_weight, batch_size, check_steps, steps_name, steps, validation_split, shuffle, extract_tensors_from_dataset)\u001b[0m\n\u001b[1;32m   2381\u001b[0m         \u001b[0mis_dataset\u001b[0m\u001b[0;34m=\u001b[0m\u001b[0mis_dataset\u001b[0m\u001b[0;34m,\u001b[0m\u001b[0;34m\u001b[0m\u001b[0;34m\u001b[0m\u001b[0m\n\u001b[1;32m   2382\u001b[0m         \u001b[0mclass_weight\u001b[0m\u001b[0;34m=\u001b[0m\u001b[0mclass_weight\u001b[0m\u001b[0;34m,\u001b[0m\u001b[0;34m\u001b[0m\u001b[0;34m\u001b[0m\u001b[0m\n\u001b[0;32m-> 2383\u001b[0;31m         batch_size=batch_size)\n\u001b[0m\u001b[1;32m   2384\u001b[0m \u001b[0;34m\u001b[0m\u001b[0m\n\u001b[1;32m   2385\u001b[0m   def _standardize_tensors(self, x, y, sample_weight, run_eagerly, dict_inputs,\n",
      "\u001b[0;32m/opt/anaconda3/lib/python3.7/site-packages/tensorflow_core/python/keras/engine/training.py\u001b[0m in \u001b[0;36m_standardize_tensors\u001b[0;34m(self, x, y, sample_weight, run_eagerly, dict_inputs, is_dataset, class_weight, batch_size)\u001b[0m\n\u001b[1;32m   2408\u001b[0m           \u001b[0mfeed_input_shapes\u001b[0m\u001b[0;34m,\u001b[0m\u001b[0;34m\u001b[0m\u001b[0;34m\u001b[0m\u001b[0m\n\u001b[1;32m   2409\u001b[0m           \u001b[0mcheck_batch_axis\u001b[0m\u001b[0;34m=\u001b[0m\u001b[0;32mFalse\u001b[0m\u001b[0;34m,\u001b[0m  \u001b[0;31m# Don't enforce the batch size.\u001b[0m\u001b[0;34m\u001b[0m\u001b[0;34m\u001b[0m\u001b[0m\n\u001b[0;32m-> 2410\u001b[0;31m           exception_prefix='input')\n\u001b[0m\u001b[1;32m   2411\u001b[0m \u001b[0;34m\u001b[0m\u001b[0m\n\u001b[1;32m   2412\u001b[0m     \u001b[0;31m# Get typespecs for the input data and sanitize it if necessary.\u001b[0m\u001b[0;34m\u001b[0m\u001b[0;34m\u001b[0m\u001b[0;34m\u001b[0m\u001b[0m\n",
      "\u001b[0;32m/opt/anaconda3/lib/python3.7/site-packages/tensorflow_core/python/keras/engine/training_utils.py\u001b[0m in \u001b[0;36mstandardize_input_data\u001b[0;34m(data, names, shapes, check_batch_axis, exception_prefix)\u001b[0m\n\u001b[1;32m    580\u001b[0m                              \u001b[0;34m': expected '\u001b[0m \u001b[0;34m+\u001b[0m \u001b[0mnames\u001b[0m\u001b[0;34m[\u001b[0m\u001b[0mi\u001b[0m\u001b[0;34m]\u001b[0m \u001b[0;34m+\u001b[0m \u001b[0;34m' to have shape '\u001b[0m \u001b[0;34m+\u001b[0m\u001b[0;34m\u001b[0m\u001b[0;34m\u001b[0m\u001b[0m\n\u001b[1;32m    581\u001b[0m                              \u001b[0mstr\u001b[0m\u001b[0;34m(\u001b[0m\u001b[0mshape\u001b[0m\u001b[0;34m)\u001b[0m \u001b[0;34m+\u001b[0m \u001b[0;34m' but got array with shape '\u001b[0m \u001b[0;34m+\u001b[0m\u001b[0;34m\u001b[0m\u001b[0;34m\u001b[0m\u001b[0m\n\u001b[0;32m--> 582\u001b[0;31m                              str(data_shape))\n\u001b[0m\u001b[1;32m    583\u001b[0m   \u001b[0;32mreturn\u001b[0m \u001b[0mdata\u001b[0m\u001b[0;34m\u001b[0m\u001b[0;34m\u001b[0m\u001b[0m\n\u001b[1;32m    584\u001b[0m \u001b[0;34m\u001b[0m\u001b[0m\n",
      "\u001b[0;31mValueError\u001b[0m: Error when checking input: expected lstm_6_input to have shape (6, 1) but got array with shape (30, 1)"
     ]
    }
   ],
   "source": [
    "# Get the quote\n",
    "apple_quote = wb.DataReader('AAPL', data_source='yahoo', start = '2000/01/01', end= '2020/04/08')\n",
    "#creat a data frame\n",
    "new_df = apple_quote.filter(['Close'])\n",
    "#Get the last 120 day clsoing price values and convert the dataframe to an array\n",
    "last_60_days = new_df[-30:].values\n",
    "#Scale the data to ve values between 0 and 1\n",
    "last_60_scaled = scaler.transform(last_60_days)\n",
    "#creat an empty list\n",
    "x_test = []\n",
    "# Append the past 120 days\n",
    "x_test.append(last_60_scaled)\n",
    "# convert the x_test data set to numpy array\n",
    "x_test = np.array(x_test)\n",
    "# Reshape\n",
    "x_test = np.reshape(x_test,(x_test.shape[0], x_test.shape[1],1))\n",
    "# Get the predicted scaled price\n",
    "pred_price = model.predict(x_test)\n",
    "#undo the scaling\n",
    "pred_price= scaler.inverse_transform(pred_price)\n",
    "print(pred_price)"
   ]
  },
  {
   "cell_type": "code",
   "execution_count": 109,
   "metadata": {},
   "outputs": [
    {
     "name": "stdout",
     "output_type": "stream",
     "text": [
      "Date\n",
      "2020-04-06    262.470001\n",
      "2020-04-07    259.429993\n",
      "2020-04-08    266.070007\n",
      "2020-04-09    267.989990\n",
      "Name: Adj Close, dtype: float64\n"
     ]
    }
   ],
   "source": [
    "apple_quote2 = wb.DataReader('AAPL', data_source='yahoo', start = '2020/04/06', end= '2020/04/10')\n",
    "print(apple_quote2['Adj Close'])"
   ]
  },
  {
   "cell_type": "code",
   "execution_count": null,
   "metadata": {},
   "outputs": [],
   "source": []
  }
 ],
 "metadata": {
  "kernelspec": {
   "display_name": "Python 3",
   "language": "python",
   "name": "python3"
  },
  "language_info": {
   "codemirror_mode": {
    "name": "ipython",
    "version": 3
   },
   "file_extension": ".py",
   "mimetype": "text/x-python",
   "name": "python",
   "nbconvert_exporter": "python",
   "pygments_lexer": "ipython3",
   "version": "3.7.5"
  }
 },
 "nbformat": 4,
 "nbformat_minor": 4
}

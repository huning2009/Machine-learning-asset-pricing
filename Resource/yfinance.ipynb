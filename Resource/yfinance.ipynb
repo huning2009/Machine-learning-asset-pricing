{
 "cells": [
  {
   "cell_type": "code",
   "execution_count": 15,
   "metadata": {},
   "outputs": [],
   "source": [
    "# import libraries\n",
    "import yfinance as yf\n",
    "import pandas as pd\n",
    "import json\n"
   ]
  },
  {
   "cell_type": "code",
   "execution_count": 13,
   "metadata": {},
   "outputs": [
    {
     "name": "stdout",
     "output_type": "stream",
     "text": [
      "yfinance.Ticker object <AAPL>\n"
     ]
    }
   ],
   "source": [
    "# Create a variable for the ticker\n",
    "aapl = yf.Ticker(\"AAPL\")\n",
    "# print the variable\n",
    "print(aapl)\n"
   ]
  },
  {
   "cell_type": "code",
   "execution_count": 24,
   "metadata": {},
   "outputs": [
    {
     "data": {
      "text/plain": [
       "'{\"zip\": \"95014\", \"sector\": \"Technology\", \"fullTimeEmployees\": 137000, \"longBusinessSummary\": \"Apple Inc. designs, manufactures, and markets smartphones, personal computers, tablets, wearables, and accessories worldwide. It also sells various related services. The company offers iPhone, a line of smartphones; Mac, a line of personal computers; iPad, a line of multi-purpose tablets; and wearables, home, and accessories comprising AirPods, Apple TV, Apple Watch, Beats products, HomePod, iPod touch, and other Apple-branded and third-party accessories. It also provides digital content stores and streaming services; AppleCare support services; and iCloud, a cloud service, which stores music, photos, contacts, calendars, mail, documents, and others. In addition, the company offers various service, such as Apple Arcade, a game subscription service; Apple Card, a co-branded credit card; Apple News+, a subscription news and magazine service; and Apple Pay, a cashless payment service, as well as licenses its intellectual property, and provides other related services. The company serves consumers, and small and mid-sized businesses; and the education, enterprise, and government markets. It sells and delivers third-party applications for its products through the App Store, Mac App Store, and Watch App Store. The company also sells its products through its retail and online stores, and direct sales force; and third-party cellular network carriers, wholesalers, retailers, and resellers. Apple Inc. was founded in 1977 and is headquartered in Cupertino, California.\", \"city\": \"Cupertino\", \"phone\": \"408-996-1010\", \"state\": \"CA\", \"country\": \"United States\", \"companyOfficers\": [], \"website\": \"http://www.apple.com\", \"maxAge\": 1, \"address1\": \"One Apple Park Way\", \"industry\": \"Consumer Electronics\", \"previousClose\": 259.43, \"regularMarketOpen\": 262.74, \"twoHundredDayAverage\": 272.18396, \"trailingAnnualDividendYield\": 0.0117179975, \"payoutRatio\": 0.2394, \"volume24Hr\": null, \"regularMarketDayHigh\": 267.37, \"navPrice\": null, \"averageDailyVolume10Day\": 43257066, \"totalAssets\": null, \"regularMarketPreviousClose\": 259.43, \"fiftyDayAverage\": 270.4357, \"trailingAnnualDividendRate\": 3.04, \"open\": 262.74, \"toCurrency\": null, \"averageVolume10days\": 43257066, \"expireDate\": null, \"yield\": null, \"algorithm\": null, \"dividendRate\": 3.08, \"exDividendDate\": 1581033600, \"beta\": 1.173542, \"circulatingSupply\": null, \"startDate\": null, \"regularMarketDayLow\": 261.23, \"priceHint\": 2, \"currency\": \"USD\", \"trailingPE\": 21.12505, \"regularMarketVolume\": 39582531, \"lastMarket\": null, \"maxSupply\": null, \"openInterest\": null, \"marketCap\": 1164183994368, \"volumeAllCurrencies\": null, \"strikePrice\": null, \"averageVolume\": 49993640, \"priceToSalesTrailing12Months\": 4.3491144, \"dayLow\": 261.23, \"ask\": 266.5, \"ytdReturn\": null, \"askSize\": 900, \"volume\": 39582531, \"fiftyTwoWeekHigh\": 327.85, \"forwardPE\": 17.597223, \"fromCurrency\": null, \"fiveYearAvgDividendYield\": 1.6, \"fiftyTwoWeekLow\": 170.27, \"bid\": 266.4, \"tradeable\": true, \"dividendYield\": 0.0119, \"bidSize\": 1400, \"dayHigh\": 267.37, \"exchange\": \"NMS\", \"shortName\": \"Apple Inc.\", \"longName\": \"Apple Inc.\", \"exchangeTimezoneName\": \"America/New_York\", \"exchangeTimezoneShortName\": \"EDT\", \"isEsgPopulated\": false, \"gmtOffSetMilliseconds\": \"-14400000\", \"quoteType\": \"EQUITY\", \"symbol\": \"AAPL\", \"messageBoardId\": \"finmb_24937\", \"market\": \"us_market\", \"annualHoldingsTurnover\": null, \"enterpriseToRevenue\": 4.276, \"beta3Year\": null, \"profitMargins\": 0.21490999, \"enterpriseToEbitda\": 14.653, \"52WeekChange\": 0.30829429999999997, \"morningStarRiskRating\": null, \"forwardEps\": 15.12, \"revenueQuarterlyGrowth\": null, \"sharesOutstanding\": 4375479808, \"fundInceptionDate\": null, \"annualReportExpenseRatio\": null, \"bookValue\": 20.418, \"sharesShort\": 38427917, \"sharesPercentSharesOut\": 0.0088, \"fundFamily\": null, \"lastFiscalYearEnd\": 1569628800, \"heldPercentInstitutions\": 0.61777, \"netIncomeToCommon\": 57527001088, \"trailingEps\": 12.595, \"lastDividendValue\": null, \"SandP52WeekChange\": -0.07774019, \"priceToBook\": 13.03115, \"heldPercentInsiders\": 0.0006600000000000001, \"nextFiscalYearEnd\": 1632787200, \"mostRecentQuarter\": 1577491200, \"shortRatio\": 0.65, \"sharesShortPreviousMonthDate\": 1581638400, \"floatShares\": 4370491953, \"enterpriseValue\": 1144719802368, \"threeYearAverageReturn\": null, \"lastSplitDate\": 1402272000, \"lastSplitFactor\": \"7:1\", \"legalType\": null, \"morningStarOverallRating\": null, \"earningsQuarterlyGrowth\": 0.114, \"dateShortInterest\": 1584057600, \"pegRatio\": 1.71, \"lastCapGain\": null, \"shortPercentOfFloat\": 0.0088, \"sharesShortPriorMonth\": 40890848, \"category\": null, \"fiveYearAverageReturn\": null, \"regularMarketPrice\": 262.74, \"logo_url\": \"https://logo.clearbit.com/apple.com\"}'"
      ]
     },
     "execution_count": 24,
     "metadata": {},
     "output_type": "execute_result"
    }
   ],
   "source": [
    "# get stock info\n",
    "apple_info = aapl.info\n",
    "apple_info_json =json.dumps(apple_info)\n",
    "apple_info_json"
   ]
  },
  {
   "cell_type": "code",
   "execution_count": null,
   "metadata": {},
   "outputs": [],
   "source": [
    "# covert the info to json if needed (optional)\n",
    "with open('app.json', 'w') as fp:\n",
    "    json.dump(data, fp)"
   ]
  },
  {
   "cell_type": "code",
   "execution_count": null,
   "metadata": {},
   "outputs": [],
   "source": [
    "# get historical market data\n",
    "apple_historical = aapl.history(period=\"max\")\n",
    "# save the historical into csv if needed (optional)\n",
    "apple_historical.to_csv(\"apple_max.csv\")"
   ]
  },
  {
   "cell_type": "code",
   "execution_count": null,
   "metadata": {},
   "outputs": [],
   "source": [
    "aapl.history(period=\"max\")"
   ]
  },
  {
   "cell_type": "code",
   "execution_count": null,
   "metadata": {},
   "outputs": [],
   "source": [
    "# show actions (dividends, splits)\n",
    "aapl.actions\n"
   ]
  },
  {
   "cell_type": "code",
   "execution_count": null,
   "metadata": {},
   "outputs": [],
   "source": [
    "# show dividends\n",
    "aapl.dividends\n"
   ]
  },
  {
   "cell_type": "code",
   "execution_count": null,
   "metadata": {},
   "outputs": [],
   "source": [
    "# show splits\n",
    "aapl.splits\n"
   ]
  },
  {
   "cell_type": "code",
   "execution_count": null,
   "metadata": {},
   "outputs": [],
   "source": [
    "aapl.get_balance_sheet"
   ]
  },
  {
   "cell_type": "code",
   "execution_count": null,
   "metadata": {},
   "outputs": [],
   "source": [
    "aapl.balance_sheet\n"
   ]
  },
  {
   "cell_type": "code",
   "execution_count": null,
   "metadata": {},
   "outputs": [],
   "source": [
    "aapl.recommendations"
   ]
  },
  {
   "cell_type": "code",
   "execution_count": null,
   "metadata": {},
   "outputs": [],
   "source": [
    "aapl.financials"
   ]
  },
  {
   "cell_type": "code",
   "execution_count": null,
   "metadata": {},
   "outputs": [],
   "source": [
    "aapl."
   ]
  },
  {
   "cell_type": "code",
   "execution_count": 5,
   "metadata": {},
   "outputs": [],
   "source": [
    "msft = yf.Ticker(\"MSFt\")"
   ]
  },
  {
   "cell_type": "code",
   "execution_count": null,
   "metadata": {},
   "outputs": [],
   "source": []
  },
  {
   "cell_type": "code",
   "execution_count": null,
   "metadata": {},
   "outputs": [],
   "source": []
  }
 ],
 "metadata": {
  "kernelspec": {
   "display_name": "Python 3",
   "language": "python",
   "name": "python3"
  },
  "language_info": {
   "codemirror_mode": {
    "name": "ipython",
    "version": 3
   },
   "file_extension": ".py",
   "mimetype": "text/x-python",
   "name": "python",
   "nbconvert_exporter": "python",
   "pygments_lexer": "ipython3",
   "version": "3.7.7"
  }
 },
 "nbformat": 4,
 "nbformat_minor": 4
}

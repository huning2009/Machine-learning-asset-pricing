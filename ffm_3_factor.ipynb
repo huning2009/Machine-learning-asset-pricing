{
 "cells": [
  {
   "cell_type": "code",
   "execution_count": 1,
   "metadata": {},
   "outputs": [
    {
     "name": "stderr",
     "output_type": "stream",
     "text": [
      "/opt/anaconda3/lib/python3.7/site-packages/pandas_datareader/compat/__init__.py:7: FutureWarning: pandas.util.testing is deprecated. Use the functions in the public API at pandas.testing instead.\n",
      "  from pandas.util.testing import assert_frame_equal\n"
     ]
    }
   ],
   "source": [
    "# import initial libraries\n",
    "import pandas as pd\n",
    "import numpy as np\n",
    "import matplotlib.pyplot as plt\n",
    "from pathlib import Path\n",
    "from pandas_datareader import data as wb\n",
    "import datetime\n",
    "import math\n",
    "import tensorflow as tf\n",
    "from sklearn.preprocessing import MinMaxScaler\n",
    "from tensorflow.keras.models import Sequential\n",
    "from tensorflow.keras.layers import LSTM, Dense"
   ]
  },
  {
   "cell_type": "code",
   "execution_count": 11,
   "metadata": {},
   "outputs": [],
   "source": [
    "index = ['AAPL']\n",
    "data_df = pd.DataFrame()\n",
    "for i in index:\n",
    "    data_df[i]=wb.DataReader(i, \n",
    "                             data_source = 'yahoo', \n",
    "                             start ='2000-1-1', \n",
    "                             end = '2020-2-28') ['Adj Close']"
   ]
  },
  {
   "cell_type": "code",
   "execution_count": 12,
   "metadata": {},
   "outputs": [],
   "source": [
    "path = Path('F-F_Research_Data_Factors_daily 2.CSV')\n",
    "ffm_3 = pd.read_csv(path, index_col ='Date', infer_datetime_format=True)\n",
    "ffm_3.index = pd.DatetimeIndex(ffm_3.index)"
   ]
  },
  {
   "cell_type": "code",
   "execution_count": 13,
   "metadata": {},
   "outputs": [],
   "source": [
    "data = pd.concat([data_df, ffm_3], axis =1 , join ='inner')"
   ]
  },
  {
   "cell_type": "code",
   "execution_count": 14,
   "metadata": {},
   "outputs": [],
   "source": [
    "data = data.reindex(columns =['Mkt-RF', 'SMB', 'HML', 'RF', 'Adj Close'])"
   ]
  },
  {
   "cell_type": "code",
   "execution_count": 15,
   "metadata": {},
   "outputs": [
    {
     "data": {
      "text/html": [
       "<div>\n",
       "<style scoped>\n",
       "    .dataframe tbody tr th:only-of-type {\n",
       "        vertical-align: middle;\n",
       "    }\n",
       "\n",
       "    .dataframe tbody tr th {\n",
       "        vertical-align: top;\n",
       "    }\n",
       "\n",
       "    .dataframe thead th {\n",
       "        text-align: right;\n",
       "    }\n",
       "</style>\n",
       "<table border=\"1\" class=\"dataframe\">\n",
       "  <thead>\n",
       "    <tr style=\"text-align: right;\">\n",
       "      <th></th>\n",
       "      <th>Mkt-RF</th>\n",
       "      <th>SMB</th>\n",
       "      <th>HML</th>\n",
       "      <th>RF</th>\n",
       "      <th>Adj Close</th>\n",
       "    </tr>\n",
       "    <tr>\n",
       "      <th>Date</th>\n",
       "      <th></th>\n",
       "      <th></th>\n",
       "      <th></th>\n",
       "      <th></th>\n",
       "      <th></th>\n",
       "    </tr>\n",
       "  </thead>\n",
       "  <tbody>\n",
       "    <tr>\n",
       "      <th>2000-01-03</th>\n",
       "      <td>-0.71</td>\n",
       "      <td>0.38</td>\n",
       "      <td>-0.85</td>\n",
       "      <td>0.021</td>\n",
       "      <td>NaN</td>\n",
       "    </tr>\n",
       "    <tr>\n",
       "      <th>2000-01-04</th>\n",
       "      <td>-4.06</td>\n",
       "      <td>-0.04</td>\n",
       "      <td>2.21</td>\n",
       "      <td>0.021</td>\n",
       "      <td>NaN</td>\n",
       "    </tr>\n",
       "    <tr>\n",
       "      <th>2000-01-05</th>\n",
       "      <td>-0.09</td>\n",
       "      <td>0.18</td>\n",
       "      <td>0.14</td>\n",
       "      <td>0.021</td>\n",
       "      <td>NaN</td>\n",
       "    </tr>\n",
       "    <tr>\n",
       "      <th>2000-01-06</th>\n",
       "      <td>-0.73</td>\n",
       "      <td>-0.67</td>\n",
       "      <td>1.38</td>\n",
       "      <td>0.021</td>\n",
       "      <td>NaN</td>\n",
       "    </tr>\n",
       "    <tr>\n",
       "      <th>2000-01-07</th>\n",
       "      <td>3.21</td>\n",
       "      <td>-0.59</td>\n",
       "      <td>-1.24</td>\n",
       "      <td>0.021</td>\n",
       "      <td>NaN</td>\n",
       "    </tr>\n",
       "    <tr>\n",
       "      <th>...</th>\n",
       "      <td>...</td>\n",
       "      <td>...</td>\n",
       "      <td>...</td>\n",
       "      <td>...</td>\n",
       "      <td>...</td>\n",
       "    </tr>\n",
       "    <tr>\n",
       "      <th>2020-02-24</th>\n",
       "      <td>-3.38</td>\n",
       "      <td>0.19</td>\n",
       "      <td>-0.04</td>\n",
       "      <td>0.006</td>\n",
       "      <td>NaN</td>\n",
       "    </tr>\n",
       "    <tr>\n",
       "      <th>2020-02-25</th>\n",
       "      <td>-3.09</td>\n",
       "      <td>-0.10</td>\n",
       "      <td>-0.72</td>\n",
       "      <td>0.006</td>\n",
       "      <td>NaN</td>\n",
       "    </tr>\n",
       "    <tr>\n",
       "      <th>2020-02-26</th>\n",
       "      <td>-0.52</td>\n",
       "      <td>-0.41</td>\n",
       "      <td>-1.26</td>\n",
       "      <td>0.006</td>\n",
       "      <td>NaN</td>\n",
       "    </tr>\n",
       "    <tr>\n",
       "      <th>2020-02-27</th>\n",
       "      <td>-4.22</td>\n",
       "      <td>0.73</td>\n",
       "      <td>0.14</td>\n",
       "      <td>0.006</td>\n",
       "      <td>NaN</td>\n",
       "    </tr>\n",
       "    <tr>\n",
       "      <th>2020-02-28</th>\n",
       "      <td>-0.78</td>\n",
       "      <td>0.27</td>\n",
       "      <td>-0.78</td>\n",
       "      <td>0.006</td>\n",
       "      <td>NaN</td>\n",
       "    </tr>\n",
       "  </tbody>\n",
       "</table>\n",
       "<p>5071 rows × 5 columns</p>\n",
       "</div>"
      ],
      "text/plain": [
       "            Mkt-RF   SMB   HML     RF  Adj Close\n",
       "Date                                            \n",
       "2000-01-03   -0.71  0.38 -0.85  0.021        NaN\n",
       "2000-01-04   -4.06 -0.04  2.21  0.021        NaN\n",
       "2000-01-05   -0.09  0.18  0.14  0.021        NaN\n",
       "2000-01-06   -0.73 -0.67  1.38  0.021        NaN\n",
       "2000-01-07    3.21 -0.59 -1.24  0.021        NaN\n",
       "...            ...   ...   ...    ...        ...\n",
       "2020-02-24   -3.38  0.19 -0.04  0.006        NaN\n",
       "2020-02-25   -3.09 -0.10 -0.72  0.006        NaN\n",
       "2020-02-26   -0.52 -0.41 -1.26  0.006        NaN\n",
       "2020-02-27   -4.22  0.73  0.14  0.006        NaN\n",
       "2020-02-28   -0.78  0.27 -0.78  0.006        NaN\n",
       "\n",
       "[5071 rows x 5 columns]"
      ]
     },
     "execution_count": 15,
     "metadata": {},
     "output_type": "execute_result"
    }
   ],
   "source": [
    "data"
   ]
  },
  {
   "cell_type": "code",
   "execution_count": 34,
   "metadata": {},
   "outputs": [],
   "source": [
    "# Creating the X and y sets\n",
    "X = data.iloc[:, 0:4].values\n",
    "y = data['^GSPC'].values\n",
    "\n",
    "#Scaling the data\n",
    "scaler = StandardScaler().fit(X)\n",
    "X = scaler.transform(X)\n",
    "\n",
    "#Creating training, validation, and testing sets\n",
    "X_train, X_test, y_train, y_test = train_test_split(X, y, random_state=78)\n",
    "X_train, X_val, y_train, y_val = train_test_split(X_train, y_train, random_state=78)\n"
   ]
  },
  {
   "cell_type": "code",
   "execution_count": null,
   "metadata": {},
   "outputs": [],
   "source": []
  }
 ],
 "metadata": {
  "kernelspec": {
   "display_name": "Python 3",
   "language": "python",
   "name": "python3"
  },
  "language_info": {
   "codemirror_mode": {
    "name": "ipython",
    "version": 3
   },
   "file_extension": ".py",
   "mimetype": "text/x-python",
   "name": "python",
   "nbconvert_exporter": "python",
   "pygments_lexer": "ipython3",
   "version": "3.7.5"
  }
 },
 "nbformat": 4,
 "nbformat_minor": 4
}

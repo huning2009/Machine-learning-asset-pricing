{
 "cells": [
  {
   "cell_type": "code",
   "execution_count": 1,
   "metadata": {},
   "outputs": [
    {
     "name": "stderr",
     "output_type": "stream",
     "text": [
      "/opt/anaconda3/lib/python3.7/site-packages/pandas_datareader/compat/__init__.py:7: FutureWarning: pandas.util.testing is deprecated. Use the functions in the public API at pandas.testing instead.\n",
      "  from pandas.util.testing import assert_frame_equal\n"
     ]
    }
   ],
   "source": [
    "# import initial libraries\n",
    "import pandas as pd\n",
    "import numpy as np\n",
    "import matplotlib.pyplot as plt\n",
    "from pathlib import Path\n",
    "from pandas_datareader import data as wb\n",
    "import datetime\n",
    "import math\n",
    "import tensorflow as tf\n",
    "from sklearn.preprocessing import MinMaxScaler\n",
    "from tensorflow.keras.models import Sequential\n",
    "from tensorflow.keras.layers import LSTM, Dense"
   ]
  },
  {
   "cell_type": "code",
   "execution_count": 2,
   "metadata": {},
   "outputs": [],
   "source": [
    "# import market returns\n",
    "apple = wb.DataReader('AAPL', data_source=\"yahoo\", start= '2010/1/31', end='2020/04/10')\n",
    "apple_1 = apple[['Adj Close']] #took volume out\n",
    "#apple_2 = (apple['High'] - apple['Low']) / apple['High']\n",
    "apple_data = pd.concat([apple_1], axis = 'columns') #took out apple_2\n",
    "#columns = ['bid_ask_spread', 'Volume', 'Adj Close']\n",
    "#apple_data.columns=columns"
   ]
  },
  {
   "cell_type": "code",
   "execution_count": 3,
   "metadata": {},
   "outputs": [
    {
     "data": {
      "text/html": [
       "<div>\n",
       "<style scoped>\n",
       "    .dataframe tbody tr th:only-of-type {\n",
       "        vertical-align: middle;\n",
       "    }\n",
       "\n",
       "    .dataframe tbody tr th {\n",
       "        vertical-align: top;\n",
       "    }\n",
       "\n",
       "    .dataframe thead th {\n",
       "        text-align: right;\n",
       "    }\n",
       "</style>\n",
       "<table border=\"1\" class=\"dataframe\">\n",
       "  <thead>\n",
       "    <tr style=\"text-align: right;\">\n",
       "      <th></th>\n",
       "      <th>Adj Close</th>\n",
       "    </tr>\n",
       "    <tr>\n",
       "      <th>Date</th>\n",
       "      <th></th>\n",
       "    </tr>\n",
       "  </thead>\n",
       "  <tbody>\n",
       "    <tr>\n",
       "      <th>2010-02-01</th>\n",
       "      <td>24.147655</td>\n",
       "    </tr>\n",
       "    <tr>\n",
       "      <th>2010-02-02</th>\n",
       "      <td>24.287779</td>\n",
       "    </tr>\n",
       "    <tr>\n",
       "      <th>2010-02-03</th>\n",
       "      <td>24.705675</td>\n",
       "    </tr>\n",
       "    <tr>\n",
       "      <th>2010-02-04</th>\n",
       "      <td>23.815323</td>\n",
       "    </tr>\n",
       "    <tr>\n",
       "      <th>2010-02-05</th>\n",
       "      <td>24.238180</td>\n",
       "    </tr>\n",
       "    <tr>\n",
       "      <th>...</th>\n",
       "      <td>...</td>\n",
       "    </tr>\n",
       "    <tr>\n",
       "      <th>2020-04-03</th>\n",
       "      <td>241.410004</td>\n",
       "    </tr>\n",
       "    <tr>\n",
       "      <th>2020-04-06</th>\n",
       "      <td>262.470001</td>\n",
       "    </tr>\n",
       "    <tr>\n",
       "      <th>2020-04-07</th>\n",
       "      <td>259.429993</td>\n",
       "    </tr>\n",
       "    <tr>\n",
       "      <th>2020-04-08</th>\n",
       "      <td>266.070007</td>\n",
       "    </tr>\n",
       "    <tr>\n",
       "      <th>2020-04-09</th>\n",
       "      <td>267.989990</td>\n",
       "    </tr>\n",
       "  </tbody>\n",
       "</table>\n",
       "<p>2566 rows × 1 columns</p>\n",
       "</div>"
      ],
      "text/plain": [
       "             Adj Close\n",
       "Date                  \n",
       "2010-02-01   24.147655\n",
       "2010-02-02   24.287779\n",
       "2010-02-03   24.705675\n",
       "2010-02-04   23.815323\n",
       "2010-02-05   24.238180\n",
       "...                ...\n",
       "2020-04-03  241.410004\n",
       "2020-04-06  262.470001\n",
       "2020-04-07  259.429993\n",
       "2020-04-08  266.070007\n",
       "2020-04-09  267.989990\n",
       "\n",
       "[2566 rows x 1 columns]"
      ]
     },
     "execution_count": 3,
     "metadata": {},
     "output_type": "execute_result"
    }
   ],
   "source": [
    "apple_data"
   ]
  },
  {
   "cell_type": "code",
   "execution_count": 4,
   "metadata": {},
   "outputs": [],
   "source": [
    "# import ffm 5 factor\n",
    "path = Path('F-F_Research_Data_5_Factors_2x3_daily.CSV')\n",
    "ffm_5 = pd.read_csv(path, index_col ='Date', infer_datetime_format=True)\n",
    "ffm_5.index = pd.DatetimeIndex(ffm_5.index)"
   ]
  },
  {
   "cell_type": "code",
   "execution_count": 5,
   "metadata": {},
   "outputs": [],
   "source": [
    "data = pd.concat([apple_data, ffm_5], axis =1 , join ='inner')\n",
    "data = data.reindex(columns =['Mkt-RF', 'SMB', 'HML','RMW', 'CMA', 'RF','Adj Close']) # 'bid_ask_spread','Volume', "
   ]
  },
  {
   "cell_type": "code",
   "execution_count": 6,
   "metadata": {},
   "outputs": [
    {
     "data": {
      "text/html": [
       "<div>\n",
       "<style scoped>\n",
       "    .dataframe tbody tr th:only-of-type {\n",
       "        vertical-align: middle;\n",
       "    }\n",
       "\n",
       "    .dataframe tbody tr th {\n",
       "        vertical-align: top;\n",
       "    }\n",
       "\n",
       "    .dataframe thead th {\n",
       "        text-align: right;\n",
       "    }\n",
       "</style>\n",
       "<table border=\"1\" class=\"dataframe\">\n",
       "  <thead>\n",
       "    <tr style=\"text-align: right;\">\n",
       "      <th></th>\n",
       "      <th>Mkt-RF</th>\n",
       "      <th>SMB</th>\n",
       "      <th>HML</th>\n",
       "      <th>RMW</th>\n",
       "      <th>CMA</th>\n",
       "      <th>RF</th>\n",
       "      <th>Adj Close</th>\n",
       "    </tr>\n",
       "    <tr>\n",
       "      <th>Date</th>\n",
       "      <th></th>\n",
       "      <th></th>\n",
       "      <th></th>\n",
       "      <th></th>\n",
       "      <th></th>\n",
       "      <th></th>\n",
       "      <th></th>\n",
       "    </tr>\n",
       "  </thead>\n",
       "  <tbody>\n",
       "    <tr>\n",
       "      <th>2010-02-01</th>\n",
       "      <td>1.39</td>\n",
       "      <td>-0.14</td>\n",
       "      <td>0.91</td>\n",
       "      <td>-0.14</td>\n",
       "      <td>0.69</td>\n",
       "      <td>0.000</td>\n",
       "      <td>24.147655</td>\n",
       "    </tr>\n",
       "    <tr>\n",
       "      <th>2010-02-02</th>\n",
       "      <td>1.21</td>\n",
       "      <td>-0.32</td>\n",
       "      <td>0.66</td>\n",
       "      <td>0.19</td>\n",
       "      <td>0.69</td>\n",
       "      <td>0.000</td>\n",
       "      <td>24.287779</td>\n",
       "    </tr>\n",
       "    <tr>\n",
       "      <th>2010-02-03</th>\n",
       "      <td>-0.49</td>\n",
       "      <td>0.05</td>\n",
       "      <td>-0.38</td>\n",
       "      <td>0.18</td>\n",
       "      <td>-0.15</td>\n",
       "      <td>0.000</td>\n",
       "      <td>24.705675</td>\n",
       "    </tr>\n",
       "    <tr>\n",
       "      <th>2010-02-04</th>\n",
       "      <td>-3.14</td>\n",
       "      <td>-0.34</td>\n",
       "      <td>-1.19</td>\n",
       "      <td>0.41</td>\n",
       "      <td>-0.03</td>\n",
       "      <td>0.000</td>\n",
       "      <td>23.815323</td>\n",
       "    </tr>\n",
       "    <tr>\n",
       "      <th>2010-02-05</th>\n",
       "      <td>0.29</td>\n",
       "      <td>-0.07</td>\n",
       "      <td>-0.06</td>\n",
       "      <td>-0.58</td>\n",
       "      <td>-0.16</td>\n",
       "      <td>0.000</td>\n",
       "      <td>24.238180</td>\n",
       "    </tr>\n",
       "    <tr>\n",
       "      <th>...</th>\n",
       "      <td>...</td>\n",
       "      <td>...</td>\n",
       "      <td>...</td>\n",
       "      <td>...</td>\n",
       "      <td>...</td>\n",
       "      <td>...</td>\n",
       "      <td>...</td>\n",
       "    </tr>\n",
       "    <tr>\n",
       "      <th>2020-02-24</th>\n",
       "      <td>-3.38</td>\n",
       "      <td>0.15</td>\n",
       "      <td>-0.04</td>\n",
       "      <td>-0.37</td>\n",
       "      <td>0.20</td>\n",
       "      <td>0.006</td>\n",
       "      <td>298.179993</td>\n",
       "    </tr>\n",
       "    <tr>\n",
       "      <th>2020-02-25</th>\n",
       "      <td>-3.09</td>\n",
       "      <td>-0.34</td>\n",
       "      <td>-0.72</td>\n",
       "      <td>-0.63</td>\n",
       "      <td>0.03</td>\n",
       "      <td>0.006</td>\n",
       "      <td>288.079987</td>\n",
       "    </tr>\n",
       "    <tr>\n",
       "      <th>2020-02-26</th>\n",
       "      <td>-0.52</td>\n",
       "      <td>-0.79</td>\n",
       "      <td>-1.26</td>\n",
       "      <td>-0.52</td>\n",
       "      <td>-0.12</td>\n",
       "      <td>0.006</td>\n",
       "      <td>292.649994</td>\n",
       "    </tr>\n",
       "    <tr>\n",
       "      <th>2020-02-27</th>\n",
       "      <td>-4.22</td>\n",
       "      <td>0.69</td>\n",
       "      <td>0.14</td>\n",
       "      <td>-0.35</td>\n",
       "      <td>-0.09</td>\n",
       "      <td>0.006</td>\n",
       "      <td>273.519989</td>\n",
       "    </tr>\n",
       "    <tr>\n",
       "      <th>2020-02-28</th>\n",
       "      <td>-0.78</td>\n",
       "      <td>0.06</td>\n",
       "      <td>-0.78</td>\n",
       "      <td>0.32</td>\n",
       "      <td>-0.41</td>\n",
       "      <td>0.006</td>\n",
       "      <td>273.359985</td>\n",
       "    </tr>\n",
       "  </tbody>\n",
       "</table>\n",
       "<p>2537 rows × 7 columns</p>\n",
       "</div>"
      ],
      "text/plain": [
       "            Mkt-RF   SMB   HML   RMW   CMA     RF   Adj Close\n",
       "Date                                                         \n",
       "2010-02-01    1.39 -0.14  0.91 -0.14  0.69  0.000   24.147655\n",
       "2010-02-02    1.21 -0.32  0.66  0.19  0.69  0.000   24.287779\n",
       "2010-02-03   -0.49  0.05 -0.38  0.18 -0.15  0.000   24.705675\n",
       "2010-02-04   -3.14 -0.34 -1.19  0.41 -0.03  0.000   23.815323\n",
       "2010-02-05    0.29 -0.07 -0.06 -0.58 -0.16  0.000   24.238180\n",
       "...            ...   ...   ...   ...   ...    ...         ...\n",
       "2020-02-24   -3.38  0.15 -0.04 -0.37  0.20  0.006  298.179993\n",
       "2020-02-25   -3.09 -0.34 -0.72 -0.63  0.03  0.006  288.079987\n",
       "2020-02-26   -0.52 -0.79 -1.26 -0.52 -0.12  0.006  292.649994\n",
       "2020-02-27   -4.22  0.69  0.14 -0.35 -0.09  0.006  273.519989\n",
       "2020-02-28   -0.78  0.06 -0.78  0.32 -0.41  0.006  273.359985\n",
       "\n",
       "[2537 rows x 7 columns]"
      ]
     },
     "execution_count": 6,
     "metadata": {},
     "output_type": "execute_result"
    }
   ],
   "source": [
    "data"
   ]
  },
  {
   "cell_type": "code",
   "execution_count": 7,
   "metadata": {},
   "outputs": [
    {
     "data": {
      "text/plain": [
       "2030"
      ]
     },
     "execution_count": 7,
     "metadata": {},
     "output_type": "execute_result"
    }
   ],
   "source": [
    "# create a new dataframe with only close column\n",
    "data = data.filter(['Adj Close'])\n",
    "#convet the dataframe to a numpy array\n",
    "dataset = data.values\n",
    "#Get the number of rows to train the model on\n",
    "training_data_len = math.ceil(len(dataset) * .8)\n",
    "training_data_len"
   ]
  },
  {
   "cell_type": "code",
   "execution_count": 8,
   "metadata": {},
   "outputs": [],
   "source": [
    "#Scale the data\n",
    "scaler = MinMaxScaler(feature_range=(0,1))\n",
    "scaled_data = scaler.fit_transform(dataset)"
   ]
  },
  {
   "cell_type": "code",
   "execution_count": 9,
   "metadata": {},
   "outputs": [],
   "source": [
    "#Creat the training data set\n",
    "#creat the scaled training data set\n",
    "train_data = scaled_data[0:training_data_len,:]\n",
    "#split the data into X_train and y_train data set\n",
    "X_train= []\n",
    "y_train = []\n",
    "\n",
    "for i in range (6, len(train_data)):\n",
    "  X_train.append(train_data[i-6:i,0])   #will contain 60 values. index 0 to 59\n",
    "  y_train.append(train_data[i,0]) #will conrain 61st value.  index 60\n",
    "  "
   ]
  },
  {
   "cell_type": "code",
   "execution_count": 10,
   "metadata": {},
   "outputs": [],
   "source": [
    "#convert the X_train and y_train to numpy arrays\n",
    "X_train, y_train = np.array(X_train), np.array(y_train)"
   ]
  },
  {
   "cell_type": "code",
   "execution_count": 22,
   "metadata": {},
   "outputs": [
    {
     "data": {
      "text/plain": [
       "(2024, 6, 1)"
      ]
     },
     "execution_count": 22,
     "metadata": {},
     "output_type": "execute_result"
    }
   ],
   "source": [
    "# Reshape the data\n",
    "X_train = np.reshape(X_train, (X_train.shape[0], X_train.shape[1],1))\n",
    "X_train.shape"
   ]
  },
  {
   "cell_type": "code",
   "execution_count": 24,
   "metadata": {},
   "outputs": [],
   "source": [
    "# Bulid the LSTM model\n",
    "model = Sequential()\n",
    "model.add(LSTM(50, return_sequences= True,  input_shape=(X_train.shape[1],1)))\n",
    "model.add(LSTM(50, return_sequences= False))\n",
    "model.add(Dense(25))\n",
    "model.add(Dense(1))"
   ]
  },
  {
   "cell_type": "code",
   "execution_count": 25,
   "metadata": {},
   "outputs": [],
   "source": [
    "#Complie model\n",
    "model.compile(optimizer='adam', loss='mean_squared_error')  #loss show how well the model did in training"
   ]
  },
  {
   "cell_type": "code",
   "execution_count": 26,
   "metadata": {},
   "outputs": [
    {
     "name": "stdout",
     "output_type": "stream",
     "text": [
      "Train on 2024 samples\n",
      "Epoch 1/50\n",
      "2024/2024 [==============================] - 3s 2ms/sample - loss: 0.0021\n",
      "Epoch 2/50\n",
      "2024/2024 [==============================] - 1s 506us/sample - loss: 7.0580e-05\n",
      "Epoch 3/50\n",
      "2024/2024 [==============================] - 1s 501us/sample - loss: 7.4095e-05\n",
      "Epoch 4/50\n",
      "2024/2024 [==============================] - 1s 499us/sample - loss: 7.2938e-05\n",
      "Epoch 5/50\n",
      "2024/2024 [==============================] - 1s 497us/sample - loss: 6.9802e-05\n",
      "Epoch 6/50\n",
      "2024/2024 [==============================] - 1s 500us/sample - loss: 8.1631e-05\n",
      "Epoch 7/50\n",
      "2024/2024 [==============================] - 1s 498us/sample - loss: 8.5758e-05\n",
      "Epoch 8/50\n",
      "2024/2024 [==============================] - 1s 497us/sample - loss: 8.4278e-05\n",
      "Epoch 9/50\n",
      "2024/2024 [==============================] - 1s 501us/sample - loss: 8.8377e-05\n",
      "Epoch 10/50\n",
      "2024/2024 [==============================] - 1s 506us/sample - loss: 6.9699e-05\n",
      "Epoch 11/50\n",
      "2024/2024 [==============================] - 1s 502us/sample - loss: 6.8957e-05\n",
      "Epoch 12/50\n",
      "2024/2024 [==============================] - 1s 510us/sample - loss: 8.2699e-05\n",
      "Epoch 13/50\n",
      "2024/2024 [==============================] - 1s 499us/sample - loss: 6.9010e-05\n",
      "Epoch 14/50\n",
      "2024/2024 [==============================] - 1s 507us/sample - loss: 6.5430e-05\n",
      "Epoch 15/50\n",
      "2024/2024 [==============================] - 1s 545us/sample - loss: 7.8063e-05\n",
      "Epoch 16/50\n",
      "2024/2024 [==============================] - 1s 564us/sample - loss: 7.2334e-05\n",
      "Epoch 17/50\n",
      "2024/2024 [==============================] - 1s 513us/sample - loss: 6.2888e-05\n",
      "Epoch 18/50\n",
      "2024/2024 [==============================] - 1s 519us/sample - loss: 6.3896e-05\n",
      "Epoch 19/50\n",
      "2024/2024 [==============================] - 1s 528us/sample - loss: 6.2740e-05\n",
      "Epoch 20/50\n",
      "2024/2024 [==============================] - 1s 518us/sample - loss: 6.1780e-05\n",
      "Epoch 21/50\n",
      "2024/2024 [==============================] - 2s 1ms/sample - loss: 5.7447e-05\n",
      "Epoch 22/50\n",
      "2024/2024 [==============================] - 2s 1ms/sample - loss: 5.1427e-05\n",
      "Epoch 23/50\n",
      "2024/2024 [==============================] - 2s 1ms/sample - loss: 6.1767e-05\n",
      "Epoch 24/50\n",
      "2024/2024 [==============================] - 2s 1ms/sample - loss: 4.0061e-05\n",
      "Epoch 25/50\n",
      "2024/2024 [==============================] - 2s 1ms/sample - loss: 4.3820e-05\n",
      "Epoch 26/50\n",
      "2024/2024 [==============================] - 2s 863us/sample - loss: 4.0440e-05\n",
      "Epoch 27/50\n",
      "2024/2024 [==============================] - 1s 514us/sample - loss: 3.5364e-05\n",
      "Epoch 28/50\n",
      "2024/2024 [==============================] - 1s 511us/sample - loss: 3.7156e-05\n",
      "Epoch 29/50\n",
      "2024/2024 [==============================] - 1s 507us/sample - loss: 4.2570e-05\n",
      "Epoch 30/50\n",
      "2024/2024 [==============================] - 1s 507us/sample - loss: 4.0508e-05\n",
      "Epoch 31/50\n",
      "2024/2024 [==============================] - 1s 512us/sample - loss: 3.9310e-05\n",
      "Epoch 32/50\n",
      "2024/2024 [==============================] - 1s 512us/sample - loss: 2.8497e-05\n",
      "Epoch 33/50\n",
      "2024/2024 [==============================] - 1s 514us/sample - loss: 3.5954e-05\n",
      "Epoch 34/50\n",
      "2024/2024 [==============================] - 1s 521us/sample - loss: 3.2605e-05\n",
      "Epoch 35/50\n",
      "2024/2024 [==============================] - 2s 994us/sample - loss: 2.9266e-05\n",
      "Epoch 36/50\n",
      "2024/2024 [==============================] - 2s 1ms/sample - loss: 2.7529e-05\n",
      "Epoch 37/50\n",
      "2024/2024 [==============================] - 2s 1ms/sample - loss: 3.2194e-05\n",
      "Epoch 38/50\n",
      "2024/2024 [==============================] - 2s 1ms/sample - loss: 2.9036e-05\n",
      "Epoch 39/50\n",
      "2024/2024 [==============================] - 3s 1ms/sample - loss: 3.9391e-05\n",
      "Epoch 40/50\n",
      "2024/2024 [==============================] - 2s 958us/sample - loss: 2.8184e-05\n",
      "Epoch 41/50\n",
      "2024/2024 [==============================] - 1s 547us/sample - loss: 2.9552e-05\n",
      "Epoch 42/50\n",
      "2024/2024 [==============================] - 1s 529us/sample - loss: 2.8251e-05\n",
      "Epoch 43/50\n",
      "2024/2024 [==============================] - 1s 518us/sample - loss: 3.0634e-05\n",
      "Epoch 44/50\n",
      "2024/2024 [==============================] - 1s 538us/sample - loss: 3.0464e-05\n",
      "Epoch 45/50\n",
      "2024/2024 [==============================] - 1s 536us/sample - loss: 3.5784e-05\n",
      "Epoch 46/50\n",
      "2024/2024 [==============================] - 1s 526us/sample - loss: 2.9170e-05\n",
      "Epoch 47/50\n",
      "2024/2024 [==============================] - 2s 1ms/sample - loss: 2.6903e-05\n",
      "Epoch 48/50\n",
      "2024/2024 [==============================] - 2s 1ms/sample - loss: 3.3459e-05\n",
      "Epoch 49/50\n",
      "2024/2024 [==============================] - 2s 1ms/sample - loss: 2.5961e-05\n",
      "Epoch 50/50\n",
      "2024/2024 [==============================] - 2s 1ms/sample - loss: 2.7835e-05\n"
     ]
    },
    {
     "data": {
      "text/plain": [
       "<tensorflow.python.keras.callbacks.History at 0x1a439b1950>"
      ]
     },
     "execution_count": 26,
     "metadata": {},
     "output_type": "execute_result"
    }
   ],
   "source": [
    "# Train the model\n",
    "model.fit(X_train, y_train, batch_size= 10, epochs=50, verbose=1 )"
   ]
  },
  {
   "cell_type": "code",
   "execution_count": 27,
   "metadata": {},
   "outputs": [],
   "source": [
    "#create the teating data set\n",
    "#create a new array containing scaled values from index  \n",
    "test_data = scaled_data[training_data_len - 6:,:]\n",
    "#Create the data sets X_test and y_test\n",
    "X_test = []\n",
    "y_test= dataset[training_data_len:,:]\n",
    "for i in range(6, len(test_data)):\n",
    "    X_test.append(test_data[i-6:i,0])\n"
   ]
  },
  {
   "cell_type": "code",
   "execution_count": 28,
   "metadata": {},
   "outputs": [],
   "source": [
    "# Convert the data to a numpy array\n",
    "X_test = np.array(X_test)"
   ]
  },
  {
   "cell_type": "code",
   "execution_count": 29,
   "metadata": {},
   "outputs": [],
   "source": [
    "# Reshape the data\n",
    "X_test= np.reshape(X_test,(X_test.shape[0],X_test.shape[1],1))"
   ]
  },
  {
   "cell_type": "code",
   "execution_count": 30,
   "metadata": {},
   "outputs": [],
   "source": [
    "#Get the models predicted price values\n",
    "predictions = model.predict(X_test)\n",
    "predictions = scaler.inverse_transform(predictions)\n"
   ]
  },
  {
   "cell_type": "code",
   "execution_count": 31,
   "metadata": {},
   "outputs": [
    {
     "data": {
      "text/plain": [
       "4.3034345906773614"
      ]
     },
     "execution_count": 31,
     "metadata": {},
     "output_type": "execute_result"
    }
   ],
   "source": [
    "#Get the root mean squared error (RMSE)\n",
    "rmse = np.sqrt(np.mean(((predictions - y_test)**2)))\n",
    "rmse"
   ]
  },
  {
   "cell_type": "code",
   "execution_count": 32,
   "metadata": {},
   "outputs": [
    {
     "name": "stderr",
     "output_type": "stream",
     "text": [
      "/opt/anaconda3/lib/python3.7/site-packages/ipykernel_launcher.py:4: SettingWithCopyWarning: \n",
      "A value is trying to be set on a copy of a slice from a DataFrame.\n",
      "Try using .loc[row_indexer,col_indexer] = value instead\n",
      "\n",
      "See the caveats in the documentation: https://pandas.pydata.org/pandas-docs/stable/user_guide/indexing.html#returning-a-view-versus-a-copy\n",
      "  after removing the cwd from sys.path.\n"
     ]
    },
    {
     "data": {
      "image/png": "[encoded data removed]",
      "text/plain": [
       "<Figure size 1152x576 with 1 Axes>"
      ]
     },
     "metadata": {
      "needs_background": "light"
     },
     "output_type": "display_data"
    }
   ],
   "source": [
    "# plot the data\n",
    "train = data[:training_data_len]\n",
    "valid = data[training_data_len:]\n",
    "valid['Predictions'] = predictions\n",
    "#Visulize the data\n",
    "plt.figure(figsize=(16,8))\n",
    "plt.title(\"Model\")\n",
    "plt.xlabel(\"Date\")\n",
    "plt.ylabel('Close Price USD $')\n",
    "plt.plot(train['Adj Close'])\n",
    "plt.plot(valid[['Adj Close','Predictions']])\n",
    "plt.legend([\"Train\", 'Val','Predictions'])\n",
    "plt.show()"
   ]
  },
  {
   "cell_type": "code",
   "execution_count": 33,
   "metadata": {},
   "outputs": [
    {
     "data": {
      "text/html": [
       "<div>\n",
       "<style scoped>\n",
       "    .dataframe tbody tr th:only-of-type {\n",
       "        vertical-align: middle;\n",
       "    }\n",
       "\n",
       "    .dataframe tbody tr th {\n",
       "        vertical-align: top;\n",
       "    }\n",
       "\n",
       "    .dataframe thead th {\n",
       "        text-align: right;\n",
       "    }\n",
       "</style>\n",
       "<table border=\"1\" class=\"dataframe\">\n",
       "  <thead>\n",
       "    <tr style=\"text-align: right;\">\n",
       "      <th></th>\n",
       "      <th>Adj Close</th>\n",
       "      <th>Predictions</th>\n",
       "    </tr>\n",
       "    <tr>\n",
       "      <th>Date</th>\n",
       "      <th></th>\n",
       "      <th></th>\n",
       "    </tr>\n",
       "  </thead>\n",
       "  <tbody>\n",
       "    <tr>\n",
       "      <th>2018-02-23</th>\n",
       "      <td>170.634277</td>\n",
       "      <td>166.494446</td>\n",
       "    </tr>\n",
       "    <tr>\n",
       "      <th>2018-02-26</th>\n",
       "      <td>174.008057</td>\n",
       "      <td>169.531952</td>\n",
       "    </tr>\n",
       "    <tr>\n",
       "      <th>2018-02-27</th>\n",
       "      <td>173.444168</td>\n",
       "      <td>172.809525</td>\n",
       "    </tr>\n",
       "    <tr>\n",
       "      <th>2018-02-28</th>\n",
       "      <td>173.181656</td>\n",
       "      <td>171.644135</td>\n",
       "    </tr>\n",
       "    <tr>\n",
       "      <th>2018-03-01</th>\n",
       "      <td>170.148117</td>\n",
       "      <td>171.578354</td>\n",
       "    </tr>\n",
       "    <tr>\n",
       "      <th>...</th>\n",
       "      <td>...</td>\n",
       "      <td>...</td>\n",
       "    </tr>\n",
       "    <tr>\n",
       "      <th>2020-02-24</th>\n",
       "      <td>298.179993</td>\n",
       "      <td>307.071014</td>\n",
       "    </tr>\n",
       "    <tr>\n",
       "      <th>2020-02-25</th>\n",
       "      <td>288.079987</td>\n",
       "      <td>290.713196</td>\n",
       "    </tr>\n",
       "    <tr>\n",
       "      <th>2020-02-26</th>\n",
       "      <td>292.649994</td>\n",
       "      <td>283.291138</td>\n",
       "    </tr>\n",
       "    <tr>\n",
       "      <th>2020-02-27</th>\n",
       "      <td>273.519989</td>\n",
       "      <td>291.701416</td>\n",
       "    </tr>\n",
       "    <tr>\n",
       "      <th>2020-02-28</th>\n",
       "      <td>273.359985</td>\n",
       "      <td>265.511993</td>\n",
       "    </tr>\n",
       "  </tbody>\n",
       "</table>\n",
       "<p>507 rows × 2 columns</p>\n",
       "</div>"
      ],
      "text/plain": [
       "             Adj Close  Predictions\n",
       "Date                               \n",
       "2018-02-23  170.634277   166.494446\n",
       "2018-02-26  174.008057   169.531952\n",
       "2018-02-27  173.444168   172.809525\n",
       "2018-02-28  173.181656   171.644135\n",
       "2018-03-01  170.148117   171.578354\n",
       "...                ...          ...\n",
       "2020-02-24  298.179993   307.071014\n",
       "2020-02-25  288.079987   290.713196\n",
       "2020-02-26  292.649994   283.291138\n",
       "2020-02-27  273.519989   291.701416\n",
       "2020-02-28  273.359985   265.511993\n",
       "\n",
       "[507 rows x 2 columns]"
      ]
     },
     "execution_count": 33,
     "metadata": {},
     "output_type": "execute_result"
    }
   ],
   "source": [
    "# show the valid and predicted prices\n",
    "valid"
   ]
  },
  {
   "cell_type": "code",
   "execution_count": null,
   "metadata": {},
   "outputs": [],
   "source": []
  }
 ],
 "metadata": {
  "kernelspec": {
   "display_name": "Python 3",
   "language": "python",
   "name": "python3"
  },
  "language_info": {
   "codemirror_mode": {
    "name": "ipython",
    "version": 3
   },
   "file_extension": ".py",
   "mimetype": "text/x-python",
   "name": "python",
   "nbconvert_exporter": "python",
   "pygments_lexer": "ipython3",
   "version": "3.7.5"
  }
 },
 "nbformat": 4,
 "nbformat_minor": 4
}
